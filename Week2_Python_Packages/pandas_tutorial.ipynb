{
 "cells": [
  {
   "cell_type": "markdown",
   "metadata": {},
   "source": [
    "# Pandas Tutorial\n",
    "\n",
    "**Tutorial by Ellianna Abrahams, 2021 updates by Isaac Malsky**\n",
    "\n",
    "In addition to being adorable, bamboo-loving bears, **pandas** is a Python library that makes it easy to store and work with large datasets. This notebook will teach you the basics of using pandas."
   ]
  },
  {
   "cell_type": "markdown",
   "metadata": {},
   "source": [
    "![](https://cache.desktopnexus.com/thumbseg/1321/1321509-bigthumbnail.jpg)"
   ]
  },
  {
   "cell_type": "markdown",
   "metadata": {},
   "source": [
    "Over the years many people have been building complex functions in python to allow for analyzing data. These functions can be built into libraries or modules, and there are several that are used across many disciplines. For last week's assignment you worked with numpy, a library containing complex mathematical functions. Today we'll be working with pandas in this tutorial, and matplotlib in the next tutorial. Let's import those libraries here and save them in variables so that we can easily interact with them later."
   ]
  },
  {
   "cell_type": "markdown",
   "metadata": {},
   "source": [
    "### Imports\n",
    "\n",
    "In future notebooks, the following cell will usually be at the top of any code. Generally organizing imports at the top of a notebook makes it easier to remember which libraries you've already imported and follows the guidelines of good coding practice."
   ]
  },
  {
   "cell_type": "code",
   "execution_count": null,
   "metadata": {},
   "outputs": [],
   "source": [
    "import numpy as np   # Support for arrays and array math\n",
    "import pandas as pd  # The Lesson for today\n",
    "import matplotlib.pyplot as plt"
   ]
  },
  {
   "cell_type": "markdown",
   "metadata": {},
   "source": [
    "## The Basics - Create Data\n",
    "\n",
    "Let's take a look at the 5 most popular baby names in the U.S. in 2018 by. Data was taken from www.ssa.gov."
   ]
  },
  {
   "cell_type": "code",
   "execution_count": null,
   "metadata": {},
   "outputs": [],
   "source": [
    "# We can write words into python code by surrounding a word or number with quotation marks.\n",
    "# This is called a string, and we have stored our five strings in a list.\n",
    "names = ['Liam', 'Emma', 'Noah', 'Olivia', 'Ava']\n",
    "\n",
    "# Whole numbers are called integers.\n",
    "birth_count = [19837, 18688, 18267, 17921, 14924]\n",
    "\n",
    "# Decimals or fractions are called floats.\n",
    "percentage_of_births = [0.0102, 0.0101, 0.0097, 0.0095, 0.0081]"
   ]
  },
  {
   "cell_type": "code",
   "execution_count": null,
   "metadata": {},
   "outputs": [],
   "source": [
    "print (type(names))"
   ]
  },
  {
   "cell_type": "markdown",
   "metadata": {},
   "source": [
    "Let's store this data in a pandas spreadsheet, called a `DataFrame`. \n",
    "We can't create a dataframe directly from our lists, so we're going to store them in a dictionary, or `dict`."
   ]
  },
  {
   "cell_type": "code",
   "execution_count": null,
   "metadata": {},
   "outputs": [],
   "source": [
    "data = {'names': names, 'count': birth_count, 'percentage': percentage_of_births}"
   ]
  },
  {
   "cell_type": "code",
   "execution_count": null,
   "metadata": {},
   "outputs": [],
   "source": [
    "print (type(data))\n",
    "print (data)"
   ]
  },
  {
   "cell_type": "markdown",
   "metadata": {},
   "source": [
    "Now we can make a dataframe! Notice how we access the `DataFrame` function in the pandas library by using the variable `pd` that we defined above."
   ]
  },
  {
   "cell_type": "code",
   "execution_count": null,
   "metadata": {},
   "outputs": [],
   "source": [
    "df = pd.DataFrame(data)"
   ]
  },
  {
   "cell_type": "code",
   "execution_count": null,
   "metadata": {},
   "outputs": [],
   "source": [
    "# The command .head is returns the first n rows, where n is the value in the parentheses\n",
    "# You can always google commands to see how they are called and how to call them\n",
    "# For example: https://pandas.pydata.org/docs/reference/api/pandas.DataFrame.head.html\n",
    "\n",
    "df.head(5)"
   ]
  },
  {
   "cell_type": "markdown",
   "metadata": {},
   "source": [
    "We can save our dataframe to a csv file so that we can share it with our colleagues. If you want to save it somewhere specific on your computer, you can specify the path inside the string."
   ]
  },
  {
   "cell_type": "code",
   "execution_count": null,
   "metadata": {},
   "outputs": [],
   "source": [
    "df.to_csv('save_the_pandas.csv')"
   ]
  },
  {
   "cell_type": "code",
   "execution_count": null,
   "metadata": {},
   "outputs": [],
   "source": [
    "# What do you think the saved file will look like with this?\n",
    "# Take a guess before running it\n",
    "\n",
    "df.to_csv('dataframe_tab.txt', sep='\\t')\n",
    "df.to_csv('dataframe._qtxt', sep='q')"
   ]
  },
  {
   "cell_type": "markdown",
   "metadata": {},
   "source": [
    "## Data manipulation\n",
    "One of the most helpful aspects of pandas is how it can be used to quickly perform operations on large data sets."
   ]
  },
  {
   "cell_type": "code",
   "execution_count": null,
   "metadata": {},
<<<<<<< HEAD
   "outputs": [
    {
     "data": {
      "text/html": [
       "<div>\n",
       "<style scoped>\n",
       "    .dataframe tbody tr th:only-of-type {\n",
       "        vertical-align: middle;\n",
       "    }\n",
       "\n",
       "    .dataframe tbody tr th {\n",
       "        vertical-align: top;\n",
       "    }\n",
       "\n",
       "    .dataframe thead th {\n",
       "        text-align: right;\n",
       "    }\n",
       "</style>\n",
       "<table border=\"1\" class=\"dataframe\">\n",
       "  <thead>\n",
       "    <tr style=\"text-align: right;\">\n",
       "      <th></th>\n",
       "      <th>x</th>\n",
       "      <th>y</th>\n",
       "    </tr>\n",
       "  </thead>\n",
       "  <tbody>\n",
       "    <tr>\n",
       "      <th>0</th>\n",
       "      <td>-0.780274</td>\n",
       "      <td>-0.350970</td>\n",
       "    </tr>\n",
       "    <tr>\n",
       "      <th>1</th>\n",
       "      <td>-2.176792</td>\n",
       "      <td>0.375737</td>\n",
       "    </tr>\n",
       "    <tr>\n",
       "      <th>2</th>\n",
       "      <td>0.184147</td>\n",
       "      <td>0.169534</td>\n",
       "    </tr>\n",
       "    <tr>\n",
       "      <th>3</th>\n",
       "      <td>-1.345378</td>\n",
       "      <td>-0.038261</td>\n",
       "    </tr>\n",
       "    <tr>\n",
       "      <th>4</th>\n",
       "      <td>-1.098948</td>\n",
       "      <td>-0.171871</td>\n",
       "    </tr>\n",
       "    <tr>\n",
       "      <th>5</th>\n",
       "      <td>-0.116959</td>\n",
       "      <td>1.068499</td>\n",
       "    </tr>\n",
       "    <tr>\n",
       "      <th>6</th>\n",
       "      <td>-0.928538</td>\n",
       "      <td>0.807114</td>\n",
       "    </tr>\n",
       "    <tr>\n",
       "      <th>7</th>\n",
       "      <td>0.614959</td>\n",
       "      <td>0.556480</td>\n",
       "    </tr>\n",
       "    <tr>\n",
       "      <th>8</th>\n",
       "      <td>-1.405798</td>\n",
       "      <td>0.371346</td>\n",
       "    </tr>\n",
       "    <tr>\n",
       "      <th>9</th>\n",
       "      <td>-0.366754</td>\n",
       "      <td>0.094518</td>\n",
       "    </tr>\n",
       "  </tbody>\n",
       "</table>\n",
       "</div>"
      ],
      "text/plain": [
       "          x         y\n",
       "0 -0.780274 -0.350970\n",
       "1 -2.176792  0.375737\n",
       "2  0.184147  0.169534\n",
       "3 -1.345378 -0.038261\n",
       "4 -1.098948 -0.171871\n",
       "5 -0.116959  1.068499\n",
       "6 -0.928538  0.807114\n",
       "7  0.614959  0.556480\n",
       "8 -1.405798  0.371346\n",
       "9 -0.366754  0.094518"
      ]
     },
     "execution_count": 10,
     "metadata": {},
     "output_type": "execute_result"
    }
   ],
=======
   "outputs": [],
>>>>>>> 858b02ec7a66d497efc1eed5052c6d11cc926db0
   "source": [
    "# Given a simple dataframe of two columns of values, we can find the sum or\n",
    "# Perform other calculations\n",
    "\n",
    "column1 = np.random.normal(size=10)\n",
    "column2 = np.random.normal(size=10)\n",
    "test_data = {'x': column1, 'y': column2}\n",
    "dataframe = pd.DataFrame(test_data)\n",
    "dataframe.head(10)"
   ]
  },
  {
   "cell_type": "code",
   "execution_count": null,
   "metadata": {},
<<<<<<< HEAD
   "outputs": [
    {
     "data": {
      "text/html": [
       "<div>\n",
       "<style scoped>\n",
       "    .dataframe tbody tr th:only-of-type {\n",
       "        vertical-align: middle;\n",
       "    }\n",
       "\n",
       "    .dataframe tbody tr th {\n",
       "        vertical-align: top;\n",
       "    }\n",
       "\n",
       "    .dataframe thead th {\n",
       "        text-align: right;\n",
       "    }\n",
       "</style>\n",
       "<table border=\"1\" class=\"dataframe\">\n",
       "  <thead>\n",
       "    <tr style=\"text-align: right;\">\n",
       "      <th></th>\n",
       "      <th>x</th>\n",
       "      <th>y</th>\n",
       "      <th>sums</th>\n",
       "      <th>product</th>\n",
       "    </tr>\n",
       "  </thead>\n",
       "  <tbody>\n",
       "    <tr>\n",
       "      <th>0</th>\n",
       "      <td>-0.780274</td>\n",
       "      <td>-0.350970</td>\n",
       "      <td>-1.131245</td>\n",
       "      <td>0.273853</td>\n",
       "    </tr>\n",
       "    <tr>\n",
       "      <th>1</th>\n",
       "      <td>-2.176792</td>\n",
       "      <td>0.375737</td>\n",
       "      <td>-1.801055</td>\n",
       "      <td>-0.817902</td>\n",
       "    </tr>\n",
       "    <tr>\n",
       "      <th>2</th>\n",
       "      <td>0.184147</td>\n",
       "      <td>0.169534</td>\n",
       "      <td>0.353681</td>\n",
       "      <td>0.031219</td>\n",
       "    </tr>\n",
       "    <tr>\n",
       "      <th>3</th>\n",
       "      <td>-1.345378</td>\n",
       "      <td>-0.038261</td>\n",
       "      <td>-1.383639</td>\n",
       "      <td>0.051475</td>\n",
       "    </tr>\n",
       "    <tr>\n",
       "      <th>4</th>\n",
       "      <td>-1.098948</td>\n",
       "      <td>-0.171871</td>\n",
       "      <td>-1.270819</td>\n",
       "      <td>0.188877</td>\n",
       "    </tr>\n",
       "    <tr>\n",
       "      <th>5</th>\n",
       "      <td>-0.116959</td>\n",
       "      <td>1.068499</td>\n",
       "      <td>0.951540</td>\n",
       "      <td>-0.124971</td>\n",
       "    </tr>\n",
       "    <tr>\n",
       "      <th>6</th>\n",
       "      <td>-0.928538</td>\n",
       "      <td>0.807114</td>\n",
       "      <td>-0.121425</td>\n",
       "      <td>-0.749436</td>\n",
       "    </tr>\n",
       "    <tr>\n",
       "      <th>7</th>\n",
       "      <td>0.614959</td>\n",
       "      <td>0.556480</td>\n",
       "      <td>1.171439</td>\n",
       "      <td>0.342212</td>\n",
       "    </tr>\n",
       "    <tr>\n",
       "      <th>8</th>\n",
       "      <td>-1.405798</td>\n",
       "      <td>0.371346</td>\n",
       "      <td>-1.034452</td>\n",
       "      <td>-0.522037</td>\n",
       "    </tr>\n",
       "    <tr>\n",
       "      <th>9</th>\n",
       "      <td>-0.366754</td>\n",
       "      <td>0.094518</td>\n",
       "      <td>-0.272236</td>\n",
       "      <td>-0.034665</td>\n",
       "    </tr>\n",
       "  </tbody>\n",
       "</table>\n",
       "</div>"
      ],
      "text/plain": [
       "          x         y      sums   product\n",
       "0 -0.780274 -0.350970 -1.131245  0.273853\n",
       "1 -2.176792  0.375737 -1.801055 -0.817902\n",
       "2  0.184147  0.169534  0.353681  0.031219\n",
       "3 -1.345378 -0.038261 -1.383639  0.051475\n",
       "4 -1.098948 -0.171871 -1.270819  0.188877\n",
       "5 -0.116959  1.068499  0.951540 -0.124971\n",
       "6 -0.928538  0.807114 -0.121425 -0.749436\n",
       "7  0.614959  0.556480  1.171439  0.342212\n",
       "8 -1.405798  0.371346 -1.034452 -0.522037\n",
       "9 -0.366754  0.094518 -0.272236 -0.034665"
      ]
     },
     "execution_count": 11,
     "metadata": {},
     "output_type": "execute_result"
    }
   ],
=======
   "outputs": [],
>>>>>>> 858b02ec7a66d497efc1eed5052c6d11cc926db0
   "source": [
    "dataframe['sums'] = dataframe['x'] + dataframe['y']\n",
    "dataframe['product'] = dataframe['x'] * dataframe['y']\n",
    "dataframe.head(10)"
   ]
  },
  {
   "cell_type": "markdown",
   "metadata": {},
   "source": [
    "## The Basics - Get Data"
   ]
  },
  {
   "cell_type": "markdown",
   "metadata": {},
   "source": [
    "Let's say that your research group already has collected data that they've saved in a csv file. You can open csv files from pandas too using the pandas `read_csv()` function."
   ]
  },
  {
   "cell_type": "code",
   "execution_count": null,
   "metadata": {},
   "outputs": [],
   "source": [
    "# This csv file was created by Hadley Wickham\n",
    "# and is available at https://github.com/hadley/data-baby-names\n",
    "names_df = pd.read_csv('baby-names.csv')"
   ]
  },
  {
   "cell_type": "markdown",
   "metadata": {},
   "source": [
    "There are a few ways you can explore what is in your csv file. For example, you can see what columns are included, you can look at the first few lines, or you can see how many rows, or items, there are in the dataframe."
   ]
  },
  {
   "cell_type": "code",
   "execution_count": null,
   "metadata": {},
   "outputs": [],
   "source": [
    "names_df.columns\n",
    "\n",
    "# Note that the data for this csv file is taken from the US Social Security website. \n",
    "# The SSO has historically assigned a binary gender at birth and is therefore biased in its collection.\n",
    "# It is always important to keep in mind bias that might be included in data collection!"
   ]
  },
  {
   "cell_type": "code",
   "execution_count": null,
   "metadata": {},
   "outputs": [],
   "source": [
    "names_df.head(10)\n",
    "\n",
    "# Try chaning the .head call. Can you create a different dataframe as a subset of a\n",
    "# portion of just the original one?"
   ]
  },
  {
   "cell_type": "code",
   "execution_count": null,
   "metadata": {},
   "outputs": [],
   "source": [
    "len(names_df)"
   ]
  },
  {
   "cell_type": "markdown",
   "metadata": {},
   "source": [
    "From exploring the data, we can see that this dataset includes information about 258,000 popular names according to the population percentage given the name each year sorted by gender. \n",
    "\n",
    "## Analyzing Data\n",
    "We can ask questions about this dataset and look for answers using pandas. Let's see how many years are included in the dataset."
   ]
  },
  {
   "cell_type": "code",
   "execution_count": null,
   "metadata": {},
   "outputs": [],
   "source": [
    "# First we isolate the column including information about each year\n",
    "years = names_df['year']\n",
    "\n",
    "# Selecting a series like this returns a pandas object called a series\n",
    "print (type(years))"
   ]
  },
  {
   "cell_type": "code",
   "execution_count": null,
   "metadata": {},
   "outputs": [],
   "source": [
    "# Now we find the minimum value in that column, using the .min() command\n",
    "years.min()\n",
    "print (years.min())\n",
    "\n",
    "# You can also cast the pandas series object as a list\n",
    "print (min(list(years)))"
   ]
  },
  {
   "cell_type": "markdown",
   "metadata": {},
   "source": [
    "Now we can look at different ways of manipulating this dataset!"
   ]
  },
  {
   "cell_type": "code",
   "execution_count": null,
   "metadata": {},
<<<<<<< HEAD
   "outputs": [
    {
     "data": {
      "text/plain": [
       "0.0008944713333333334"
      ]
     },
     "execution_count": 18,
     "metadata": {},
     "output_type": "execute_result"
    }
   ],
=======
   "outputs": [],
>>>>>>> 858b02ec7a66d497efc1eed5052c6d11cc926db0
   "source": [
    "names_df['percent'].mean()"
   ]
  },
  {
   "cell_type": "code",
   "execution_count": null,
   "metadata": {},
   "outputs": [],
   "source": [
    "names_df['percent'].median()"
   ]
  },
  {
   "cell_type": "code",
   "execution_count": null,
   "metadata": {},
   "outputs": [],
   "source": [
    "names_df['percent'].mode()"
   ]
  },
  {
   "cell_type": "markdown",
   "metadata": {},
   "source": [
    "We'll dive more into the difference between mean, median and mode later in the summer. For the final part of this tutorial, we'll look at dividing the data into subsets. Maybe your study is only interested in exploring the most popular names given to baby girls in the 1960s."
   ]
  },
  {
   "cell_type": "code",
   "execution_count": null,
   "metadata": {},
   "outputs": [],
   "source": [
    "subset = names_df.loc[(years >= 1960) & (years < 1970) & (names_df['gender'] == 'girl')]"
   ]
  },
  {
   "cell_type": "markdown",
   "metadata": {},
   "source": [
    "How do you view the first 12 lines of this subset?"
   ]
  },
  {
   "cell_type": "code",
<<<<<<< HEAD
   "execution_count": 22,
   "metadata": {},
   "outputs": [
    {
     "data": {
      "text/html": [
       "<div>\n",
       "<style scoped>\n",
       "    .dataframe tbody tr th:only-of-type {\n",
       "        vertical-align: middle;\n",
       "    }\n",
       "\n",
       "    .dataframe tbody tr th {\n",
       "        vertical-align: top;\n",
       "    }\n",
       "\n",
       "    .dataframe thead th {\n",
       "        text-align: right;\n",
       "    }\n",
       "</style>\n",
       "<table border=\"1\" class=\"dataframe\">\n",
       "  <thead>\n",
       "    <tr style=\"text-align: right;\">\n",
       "      <th></th>\n",
       "      <th>year</th>\n",
       "      <th>name</th>\n",
       "      <th>percent</th>\n",
       "      <th>gender</th>\n",
       "    </tr>\n",
       "  </thead>\n",
       "  <tbody>\n",
       "    <tr>\n",
       "      <th>209000</th>\n",
       "      <td>1960</td>\n",
       "      <td>Mary</td>\n",
       "      <td>0.024750</td>\n",
       "      <td>girl</td>\n",
       "    </tr>\n",
       "    <tr>\n",
       "      <th>209001</th>\n",
       "      <td>1960</td>\n",
       "      <td>Susan</td>\n",
       "      <td>0.018846</td>\n",
       "      <td>girl</td>\n",
       "    </tr>\n",
       "    <tr>\n",
       "      <th>209002</th>\n",
       "      <td>1960</td>\n",
       "      <td>Linda</td>\n",
       "      <td>0.017942</td>\n",
       "      <td>girl</td>\n",
       "    </tr>\n",
       "    <tr>\n",
       "      <th>209003</th>\n",
       "      <td>1960</td>\n",
       "      <td>Karen</td>\n",
       "      <td>0.017494</td>\n",
       "      <td>girl</td>\n",
       "    </tr>\n",
       "    <tr>\n",
       "      <th>209004</th>\n",
       "      <td>1960</td>\n",
       "      <td>Donna</td>\n",
       "      <td>0.016410</td>\n",
       "      <td>girl</td>\n",
       "    </tr>\n",
       "    <tr>\n",
       "      <th>209005</th>\n",
       "      <td>1960</td>\n",
       "      <td>Lisa</td>\n",
       "      <td>0.016207</td>\n",
       "      <td>girl</td>\n",
       "    </tr>\n",
       "    <tr>\n",
       "      <th>209006</th>\n",
       "      <td>1960</td>\n",
       "      <td>Patricia</td>\n",
       "      <td>0.015435</td>\n",
       "      <td>girl</td>\n",
       "    </tr>\n",
       "    <tr>\n",
       "      <th>209007</th>\n",
       "      <td>1960</td>\n",
       "      <td>Debra</td>\n",
       "      <td>0.012855</td>\n",
       "      <td>girl</td>\n",
       "    </tr>\n",
       "    <tr>\n",
       "      <th>209008</th>\n",
       "      <td>1960</td>\n",
       "      <td>Cynthia</td>\n",
       "      <td>0.012847</td>\n",
       "      <td>girl</td>\n",
       "    </tr>\n",
       "    <tr>\n",
       "      <th>209009</th>\n",
       "      <td>1960</td>\n",
       "      <td>Deborah</td>\n",
       "      <td>0.012149</td>\n",
       "      <td>girl</td>\n",
       "    </tr>\n",
       "    <tr>\n",
       "      <th>209010</th>\n",
       "      <td>1960</td>\n",
       "      <td>Sandra</td>\n",
       "      <td>0.011815</td>\n",
       "      <td>girl</td>\n",
       "    </tr>\n",
       "    <tr>\n",
       "      <th>209011</th>\n",
       "      <td>1960</td>\n",
       "      <td>Barbara</td>\n",
       "      <td>0.011757</td>\n",
       "      <td>girl</td>\n",
       "    </tr>\n",
       "  </tbody>\n",
       "</table>\n",
       "</div>"
      ],
      "text/plain": [
       "        year      name   percent gender\n",
       "209000  1960      Mary  0.024750   girl\n",
       "209001  1960     Susan  0.018846   girl\n",
       "209002  1960     Linda  0.017942   girl\n",
       "209003  1960     Karen  0.017494   girl\n",
       "209004  1960     Donna  0.016410   girl\n",
       "209005  1960      Lisa  0.016207   girl\n",
       "209006  1960  Patricia  0.015435   girl\n",
       "209007  1960     Debra  0.012855   girl\n",
       "209008  1960   Cynthia  0.012847   girl\n",
       "209009  1960   Deborah  0.012149   girl\n",
       "209010  1960    Sandra  0.011815   girl\n",
       "209011  1960   Barbara  0.011757   girl"
      ]
     },
     "execution_count": 22,
     "metadata": {},
     "output_type": "execute_result"
    }
   ],
   "source": [
    "subset.head(12)"
   ]
=======
   "execution_count": null,
   "metadata": {},
   "outputs": [],
   "source": []
>>>>>>> 858b02ec7a66d497efc1eed5052c6d11cc926db0
  },
  {
   "cell_type": "markdown",
   "metadata": {},
   "source": [
    "Let's sort our subset by percentage popularity."
   ]
  },
  {
   "cell_type": "code",
<<<<<<< HEAD
   "execution_count": 23,
   "metadata": {},
   "outputs": [
    {
     "data": {
      "text/html": [
       "<div>\n",
       "<style scoped>\n",
       "    .dataframe tbody tr th:only-of-type {\n",
       "        vertical-align: middle;\n",
       "    }\n",
       "\n",
       "    .dataframe tbody tr th {\n",
       "        vertical-align: top;\n",
       "    }\n",
       "\n",
       "    .dataframe thead th {\n",
       "        text-align: right;\n",
       "    }\n",
       "</style>\n",
       "<table border=\"1\" class=\"dataframe\">\n",
       "  <thead>\n",
       "    <tr style=\"text-align: right;\">\n",
       "      <th></th>\n",
       "      <th>year</th>\n",
       "      <th>name</th>\n",
       "      <th>percent</th>\n",
       "      <th>gender</th>\n",
       "    </tr>\n",
       "  </thead>\n",
       "  <tbody>\n",
       "    <tr>\n",
       "      <th>214000</th>\n",
       "      <td>1965</td>\n",
       "      <td>Lisa</td>\n",
       "      <td>0.032982</td>\n",
       "      <td>girl</td>\n",
       "    </tr>\n",
       "    <tr>\n",
       "      <th>215000</th>\n",
       "      <td>1966</td>\n",
       "      <td>Lisa</td>\n",
       "      <td>0.032416</td>\n",
       "      <td>girl</td>\n",
       "    </tr>\n",
       "    <tr>\n",
       "      <th>216000</th>\n",
       "      <td>1967</td>\n",
       "      <td>Lisa</td>\n",
       "      <td>0.030539</td>\n",
       "      <td>girl</td>\n",
       "    </tr>\n",
       "    <tr>\n",
       "      <th>217000</th>\n",
       "      <td>1968</td>\n",
       "      <td>Lisa</td>\n",
       "      <td>0.028974</td>\n",
       "      <td>girl</td>\n",
       "    </tr>\n",
       "    <tr>\n",
       "      <th>212000</th>\n",
       "      <td>1963</td>\n",
       "      <td>Lisa</td>\n",
       "      <td>0.028189</td>\n",
       "      <td>girl</td>\n",
       "    </tr>\n",
       "    <tr>\n",
       "      <th>...</th>\n",
       "      <td>...</td>\n",
       "      <td>...</td>\n",
       "      <td>...</td>\n",
       "      <td>...</td>\n",
       "    </tr>\n",
       "    <tr>\n",
       "      <th>209994</th>\n",
       "      <td>1960</td>\n",
       "      <td>Keely</td>\n",
       "      <td>0.000056</td>\n",
       "      <td>girl</td>\n",
       "    </tr>\n",
       "    <tr>\n",
       "      <th>209993</th>\n",
       "      <td>1960</td>\n",
       "      <td>Caron</td>\n",
       "      <td>0.000056</td>\n",
       "      <td>girl</td>\n",
       "    </tr>\n",
       "    <tr>\n",
       "      <th>209992</th>\n",
       "      <td>1960</td>\n",
       "      <td>Carlotta</td>\n",
       "      <td>0.000056</td>\n",
       "      <td>girl</td>\n",
       "    </tr>\n",
       "    <tr>\n",
       "      <th>209991</th>\n",
       "      <td>1960</td>\n",
       "      <td>Bev</td>\n",
       "      <td>0.000056</td>\n",
       "      <td>girl</td>\n",
       "    </tr>\n",
       "    <tr>\n",
       "      <th>209999</th>\n",
       "      <td>1960</td>\n",
       "      <td>Anastasia</td>\n",
       "      <td>0.000055</td>\n",
       "      <td>girl</td>\n",
       "    </tr>\n",
       "  </tbody>\n",
       "</table>\n",
       "<p>10000 rows × 4 columns</p>\n",
       "</div>"
      ],
      "text/plain": [
       "        year       name   percent gender\n",
       "214000  1965       Lisa  0.032982   girl\n",
       "215000  1966       Lisa  0.032416   girl\n",
       "216000  1967       Lisa  0.030539   girl\n",
       "217000  1968       Lisa  0.028974   girl\n",
       "212000  1963       Lisa  0.028189   girl\n",
       "...      ...        ...       ...    ...\n",
       "209994  1960      Keely  0.000056   girl\n",
       "209993  1960      Caron  0.000056   girl\n",
       "209992  1960   Carlotta  0.000056   girl\n",
       "209991  1960        Bev  0.000056   girl\n",
       "209999  1960  Anastasia  0.000055   girl\n",
       "\n",
       "[10000 rows x 4 columns]"
      ]
     },
     "execution_count": 23,
     "metadata": {},
     "output_type": "execute_result"
    }
   ],
=======
   "execution_count": null,
   "metadata": {},
   "outputs": [],
>>>>>>> 858b02ec7a66d497efc1eed5052c6d11cc926db0
   "source": [
    "subset.sort_values(by='percent', ascending=False)"
   ]
  },
  {
   "cell_type": "markdown",
   "metadata": {},
   "source": [
    "## Assignment"
   ]
  },
  {
   "cell_type": "markdown",
   "metadata": {},
   "source": [
    "Can you make a histogram of the percentage popularity of the name Lisa during the 1960s?"
   ]
  },
  {
   "cell_type": "code",
<<<<<<< HEAD
   "execution_count": 25,
=======
   "execution_count": null,
>>>>>>> 858b02ec7a66d497efc1eed5052c6d11cc926db0
   "metadata": {},
   "outputs": [
    {
     "data": {
      "image/png": "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",
      "text/plain": [
       "<Figure size 640x480 with 1 Axes>"
      ]
     },
     "metadata": {},
     "output_type": "display_data"
    }
   ],
   "source": [
    "# HINT: It's very useful to break coding down into written steps and then complete each step one by one.\n",
    "\n",
    "# Here is a sample of the first step that I might write\n",
    "# Step 1: Create a subset of the name Lisa in the 1960s.\n",
    "# Step 2: Make a histogram using matplotlib\n",
    "\n",
    "subset_lisa =names_df.loc[(years>=1960) & (years < 1970) & (names_df['name'] == 'Lisa')]\n",
    "plt.hist(subset_lisa['percent']);"
   ]
  },
  {
   "cell_type": "markdown",
   "metadata": {},
   "source": [
    "Can you make a histogram of the percentage popularity of the name Mary during the 1960s?"
   ]
  },
  {
   "cell_type": "code",
   "execution_count": 26,
   "metadata": {},
   "outputs": [
    {
     "data": {
      "image/png": "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",
      "text/plain": [
       "<Figure size 640x480 with 1 Axes>"
      ]
     },
     "metadata": {},
     "output_type": "display_data"
    }
   ],
   "source": [
    "subset_mary =names_df.loc[(years>=1960) & (years < 1970) & (names_df['name'] == 'Mary')]\n",
    "plt.hist(subset_mary['percent']);"
   ]
  },
  {
   "cell_type": "markdown",
   "metadata": {},
   "source": [
    "Now can you plot them on the same histogram?"
   ]
  },
  {
   "cell_type": "code",
   "execution_count": 30,
   "metadata": {},
   "outputs": [
    {
     "data": {
      "image/png": "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",
      "text/plain": [
       "<Figure size 640x480 with 1 Axes>"
      ]
     },
     "metadata": {},
     "output_type": "display_data"
    }
   ],
   "source": [
    "plt.hist([subset_lisa['percent'], subset_mary['percent']])"
   ]
  },
  {
   "cell_type": "markdown",
   "metadata": {},
   "source": [
    "Please save the csv file of the subset that you created. Scroll to the bottom of [this documentation](https://pandas.pydata.org/pandas-docs/stable/reference/api/pandas.DataFrame.to_csv.html) to find out how. Once you've completed Ryan's matplotlib tutorial, come back to this one and save a .png of your final histogram too!"
   ]
  },
  {
   "cell_type": "code",
   "execution_count": 31,
   "metadata": {},
   "outputs": [
    {
     "data": {
      "image/png": "iVBORw0KGgoAAAANSUhEUgAAAh8AAAGdCAYAAACyzRGfAAAAOXRFWHRTb2Z0d2FyZQBNYXRwbG90bGliIHZlcnNpb24zLjguNCwgaHR0cHM6Ly9tYXRwbG90bGliLm9yZy8fJSN1AAAACXBIWXMAAA9hAAAPYQGoP6dpAAAYDUlEQVR4nO3de2xX9f348Vct0CorFTHcJgJON1S8DZwDb5gpjqnZ4rLpdMa4LdHIFGROIbovopGqc47EC0ZiHM6AZl42k20qMwOdSATEbRHiDS+dSojOtKhLFT2/P/ajWW1VKOfzaj/weCQn8XN6eL/ffXsSnjn9fGhNURRFAAAk2aWnFwAA7FzEBwCQSnwAAKnEBwCQSnwAAKnEBwCQSnwAAKnEBwCQqk9PL+CTPv7443jjjTeioaEhampqeno5AMBWKIoiNm3aFMOHD49ddvnsZxu9Lj7eeOONGDFiRE8vAwDohubm5thrr70+85peFx8NDQ0R8d/FDxgwoIdXAwBsjdbW1hgxYkT73+OfpdfFx5YftQwYMEB8AECV2Zq3THjDKQCQSnwAAKnEBwCQSnwAAKnEBwCQSnwAAKnEBwCQSnwAAKnEBwCQSnwAAKm2OT4ee+yxOOWUU2L48OFRU1MTv//97zt8vSiKuOKKK2L48OGx6667xqRJk+LZZ58ta70AQJXb5vh477334pBDDombbrqpy69fd911ccMNN8RNN90UK1eujKFDh8YJJ5wQmzZt2u7FAgDVb5t/sdyUKVNiypQpXX6tKIqYN29eXHbZZXHqqadGRMTChQtjyJAhsWjRojj33HO3b7UAQNUr9T0fL7/8cmzYsCEmT57cfq6uri6OPfbYWL58eZd/pq2tLVpbWzscAMCOa5uffHyWDRs2RETEkCFDOpwfMmRIvPrqq13+maamppgzZ06Zy/hMo2b+sZRxXqk/o5RxIiLiipbyxgKAXq4in3apqanp8Looik7ntpg1a1a0tLS0H83NzZVYEgDQS5T65GPo0KER8d8nIMOGDWs/v3Hjxk5PQ7aoq6uLurq6MpcBAPRipT75GD16dAwdOjSWLFnSfu6DDz6IZcuWxcSJE8ucCgCoUtv85OPdd9+NF198sf31yy+/HM8880zssccesffee8f06dNj7ty5sd9++8V+++0Xc+fOjd122y3OOKPE90gAAFVrm+Nj1apVcdxxx7W/njFjRkREnH322fGb3/wmLrnkkvjPf/4T559/frzzzjtxxBFHxCOPPBINDQ3lrRoAqFo1RVEUPb2I/9Xa2hqNjY3R0tISAwYMKH18n3YBgPJty9/ffrcLAJBKfAAAqcQHAJBKfAAAqcQHAJBKfAAAqcQHAJBKfAAAqcQHAJBKfAAAqcQHAJBKfAAAqcQHAJBKfAAAqcQHAJBKfAAAqcQHAJBKfAAAqcQHAJBKfAAAqcQHAJBKfAAAqcQHAJBKfAAAqcQHAJBKfAAAqcQHAJBKfAAAqcQHAJBKfAAAqcQHAJBKfAAAqcQHAJBKfAAAqcQHAJBKfAAAqcQHAJBKfAAAqcQHAJBKfAAAqcQHAJBKfAAAqcQHAJBKfAAAqcQHAJBKfAAAqcQHAJBKfAAAqcQHAJBKfAAAqcQHAJBKfAAAqcQHAJBKfAAAqcQHAJBKfAAAqcQHAJBKfAAAqcQHAJBKfAAAqUqPj82bN8fll18eo0ePjl133TX22WefuPLKK+Pjjz8ueyoAoAr1KXvAa6+9Nm699dZYuHBhHHjggbFq1ao455xzorGxMaZNm1b2dABAlSk9Pp588sn49re/HSeddFJERIwaNSoWL14cq1atKnsqAKAKlf5jl6OOOioeffTReP755yMi4u9//3v87W9/i29961tdXt/W1hatra0dDgBgx1X6k49LL700WlpaYsyYMVFbWxsfffRRXH311fGDH/ygy+ubmppizpw5ZS8DAOilSn/ycc8998Rdd90VixYtiqeffjoWLlwY119/fSxcuLDL62fNmhUtLS3tR3Nzc9lLAgB6kdKffPz85z+PmTNnxumnnx4REQcddFC8+uqr0dTUFGeffXan6+vq6qKurq7sZQAAvVTpTz7ef//92GWXjsPW1tb6qC0AEBEVePJxyimnxNVXXx177713HHjggbFmzZq44YYb4kc/+lHZUwEAVaj0+LjxxhvjF7/4RZx//vmxcePGGD58eJx77rnxf//3f2VPBQBUodLjo6GhIebNmxfz5s0re2gAYAfgd7sAAKnEBwCQSnwAAKnEBwCQSnwAAKnEBwCQSnwAAKnEBwCQSnwAAKnEBwCQSnwAAKnEBwCQSnwAAKnEBwCQSnwAAKnEBwCQSnwAAKnEBwCQSnwAAKnEBwCQSnwAAKnEBwCQSnwAAKnEBwCQSnwAAKnEBwCQSnwAAKnEBwCQSnwAAKnEBwCQSnwAAKnEBwCQSnwAAKnEBwCQSnwAAKnEBwCQSnwAAKnEBwCQSnwAAKnEBwCQSnwAAKnEBwCQSnwAAKnEBwCQSnwAAKnEBwCQSnwAAKnEBwCQSnwAAKnEBwCQSnwAAKnEBwCQSnwAAKnEBwCQSnwAAKnEBwCQSnwAAKnEBwCQSnwAAKkqEh+vv/56/PCHP4xBgwbFbrvtFoceemisXr26ElMBAFWmT9kDvvPOO3HkkUfGcccdF3/+859j8ODB8dJLL8Xuu+9e9lQAQBUqPT6uvfbaGDFiRNxxxx3t50aNGlX2NABAlSr9xy4PPvhgjB8/Pr73ve/F4MGD47DDDosFCxZ86vVtbW3R2tra4QAAdlylx8f69etj/vz5sd9++8XDDz8c5513Xlx44YVx5513dnl9U1NTNDY2th8jRowoe0kAQC9SUxRFUeaA/fr1i/Hjx8fy5cvbz1144YWxcuXKePLJJztd39bWFm1tbe2vW1tbY8SIEdHS0hIDBgwoc2kRETFq5h9LGeeV+jNKGSciIq5oKW8sAOgBra2t0djYuFV/f5f+5GPYsGFxwAEHdDi3//77x2uvvdbl9XV1dTFgwIAOBwCw4yo9Po488sh47rnnOpx7/vnnY+TIkWVPBQBUodLj46KLLooVK1bE3Llz48UXX4xFixbFbbfdFlOnTi17KgCgCpUeH4cffng88MADsXjx4hg7dmxcddVVMW/evDjzzDPLngoAqEKl/zsfEREnn3xynHzyyZUYGgCocn63CwCQSnwAAKnEBwCQSnwAAKnEBwCQSnwAAKnEBwCQSnwAAKnEBwCQSnwAAKnEBwCQSnwAAKnEBwCQSnwAAKnEBwCQSnwAAKnEBwCQSnwAAKnEBwCQSnwAAKnEBwCQSnwAAKnEBwCQSnwAAKnEBwCQSnwAAKnEBwCQSnwAAKnEBwCQSnwAAKnEBwCQSnwAAKnEBwCQSnwAAKnEBwCQSnwAAKnEBwCQSnwAAKnEBwCQSnwAAKnEBwCQSnwAAKnEBwCQSnwAAKnEBwCQSnwAAKnEBwCQSnwAAKnEBwCQSnwAAKnEBwCQSnwAAKnEBwCQSnwAAKnEBwCQSnwAAKnEBwCQSnwAAKnEBwCQquLx0dTUFDU1NTF9+vRKTwUAVIGKxsfKlSvjtttui4MPPriS0wAAVaRi8fHuu+/GmWeeGQsWLIiBAwdWahoAoMpULD6mTp0aJ510Uhx//PGfeV1bW1u0trZ2OACAHVefSgx69913x9NPPx0rV6783Gubmppizpw5lVgGQHW4orHEsVrKGwsqpPQnH83NzTFt2rS46667or6+/nOvnzVrVrS0tLQfzc3NZS8JAOhFSn/ysXr16ti4cWOMGzeu/dxHH30Ujz32WNx0003R1tYWtbW17V+rq6uLurq6spcBAPRSpcfHN77xjfjnP//Z4dw555wTY8aMiUsvvbRDeAAAO5/S46OhoSHGjh3b4Vz//v1j0KBBnc4DADsf/8IpAJCqIp92+aSlS5dmTAMAVAFPPgCAVOIDAEglPgCAVOIDAEglPgCAVOIDAEglPgCAVOIDAEglPgCAVOIDAEglPgCAVOIDAEglPgCAVOIDAEglPgCAVOIDAEglPgCAVOIDAEglPgCAVOIDAEglPgCAVOIDAEglPgCAVOIDAEglPgCAVOIDAEglPgCAVOIDAEglPgCAVH16egEAsDVGzfxjaWO9cs1JpY31eap13ZXkyQcAkEp8AACpxAcAkEp8AACpxAcAkEp8AACpxAcAkEp8AACpxAcAkEp8AACpxAcAkEp8AACpxAcAkEp8AACpxAcAkEp8AACpxAcAkEp8AACpxAcAkEp8AACpxAcAkEp8AACpxAcAkEp8AACpxAcAkEp8AACpxAcAkEp8AACpxAcAkEp8AACpSo+PpqamOPzww6OhoSEGDx4c3/nOd+K5554rexoAoEqVHh/Lli2LqVOnxooVK2LJkiWxefPmmDx5crz33ntlTwUAVKE+ZQ/40EMPdXh9xx13xODBg2P16tVxzDHHlD0dAFBlSo+PT2ppaYmIiD322KPLr7e1tUVbW1v769bW1kovCQDoQRWNj6IoYsaMGXHUUUfF2LFju7ymqakp5syZU8llQM+5orHEsVrKG+tz56rSdScbNfOPpYzzSn0pw0DVqOinXX7605/GP/7xj1i8ePGnXjNr1qxoaWlpP5qbmyu5JACgh1XsyccFF1wQDz74YDz22GOx1157fep1dXV1UVdXV6llAAC9TOnxURRFXHDBBfHAAw/E0qVLY/To0WVPAQBUsdLjY+rUqbFo0aL4wx/+EA0NDbFhw4aIiGhsbIxdd9217OkAgCpT+ns+5s+fHy0tLTFp0qQYNmxY+3HPPfeUPRUAUIUq8mMXAIBP43e7AACpxAcAkEp8AACpxAcAkEp8AACpxAcAkEp8AACpxAcAkEp8AACpxAcAkEp8AACpxAcAkEp8AACpxAcAkEp8AACpxAcAkEp8AACpxAcAkEp8AACpxAcAkEp8AACpxAcAkEp8AACpxAcAkEp8AACpxAcAkEp8AACpxAcAkKpPTy8AKM+omX8sZZxX6ksZJt8VjSWO1VLeWL1MWfdJRMQr9WeUM9AOvN905skHAJBKfAAAqcQHAJBKfAAAqcQHAJBKfAAAqcQHAJBKfAAAqcQHAJBKfAAAqcQHAJBKfAAAqcQHAJBKfAAAqcQHAJBKfAAAqcQHAJBKfAAAqcQHAJBKfAAAqcQHAJBKfAAAqcQHAJBKfAAAqcQHAJBKfAAAqcQHAJBKfAAAqcQHAJBKfAAAqSoWH7fcckuMHj066uvrY9y4cfH4449XaioAoIpUJD7uueeemD59elx22WWxZs2aOProo2PKlCnx2muvVWI6AKCKVCQ+brjhhvjxj38cP/nJT2L//fePefPmxYgRI2L+/PmVmA4AqCJ9yh7wgw8+iNWrV8fMmTM7nJ88eXIsX7680/VtbW3R1tbW/rqlpSUiIlpbW8teWkREfNz2finjtNYUpYzz38Eq873SC7Tl3ic7/f1tv1PXHVHi2rPXnXhfVuu6t9WWtRXFVtwTRclef/31IiKKJ554osP5q6++uvjyl7/c6frZs2cXEeFwOBwOh2MHOJqbmz+3FUp/8rFFTU1Nh9dFUXQ6FxExa9asmDFjRvvrjz/+OP7973/HoEGDurx+a7W2tsaIESOiubk5BgwY0O1xdjT2pWv2pTN70jX70jX70rWdaV+KoohNmzbF8OHDP/fa0uNjzz33jNra2tiwYUOH8xs3bowhQ4Z0ur6uri7q6uo6nNt9991LW8+AAQN2+P/h3WFfumZfOrMnXbMvXbMvXdtZ9qWxsXGrriv9Daf9+vWLcePGxZIlSzqcX7JkSUycOLHs6QCAKlORH7vMmDEjzjrrrBg/fnxMmDAhbrvttnjttdfivPPOq8R0AEAVqUh8nHbaafH222/HlVdeGW+++WaMHTs2/vSnP8XIkSMrMV2X6urqYvbs2Z1+pLOzsy9dsy+d2ZOu2Zeu2Zeu2Zeu1RTF1nwmBgCgHH63CwCQSnwAAKnEBwCQSnwAAKl6bXzccsstMXr06Kivr49x48bF448//pnXL1u2LMaNGxf19fWxzz77xK233trpmvvuuy8OOOCAqKuriwMOOCAeeOCB7Z43W0/syxVXXBE1NTUdjqFDh5b6fW2Psvfk2Wefje9+97sxatSoqKmpiXnz5pUyb7ae2Jfefq9ElL8vCxYsiKOPPjoGDhwYAwcOjOOPPz6eeuqp7Z43W0/sy854v9x///0xfvz42H333aN///5x6KGHxm9/+9vtnrfqlPILXUp29913F3379i0WLFhQrF27tpg2bVrRv3//4tVXX+3y+vXr1xe77bZbMW3atGLt2rXFggULir59+xb33ntv+zXLly8vamtri7lz5xbr1q0r5s6dW/Tp06dYsWJFt+fN1lP7Mnv27OLAAw8s3nzzzfZj48aNFf9+t0Yl9uSpp54qLr744mLx4sXF0KFDi1//+tfbPW+2ntqX3nyvFEVl9uWMM84obr755mLNmjXFunXrinPOOadobGws/vWvf3V73mw9tS874/3y17/+tbj//vuLtWvXFi+++GIxb968ora2tnjooYe6PW816pXx8bWvfa0477zzOpwbM2ZMMXPmzC6vv+SSS4oxY8Z0OHfuuecWX//619tff//73y+++c1vdrjmxBNPLE4//fRuz5utp/Zl9uzZxSGHHLKdq6+MSuzJ/xo5cmSXf8nujPfK//q0fenN90pRVH5fiqIoNm/eXDQ0NBQLFy7s9rzZempf3C//ddhhhxWXX355t+etRr3uxy4ffPBBrF69OiZPntzh/OTJk2P58uVd/pknn3yy0/UnnnhirFq1Kj788MPPvGbLmN2ZN1NP7csWL7zwQgwfPjxGjx4dp59+eqxfv357v6XtVqk9qcS8mXpqX7bojfdKRN6+vP/++/Hhhx/GHnvs0e15M/XUvmyxM98vRVHEo48+Gs8991wcc8wx3Z63GvW6+Hjrrbfio48+6vRL6IYMGdLpl9VtsWHDhi6v37x5c7z11lufec2WMbszb6ae2peIiCOOOCLuvPPOePjhh2PBggWxYcOGmDhxYrz99ttlfGvdVqk9qcS8mXpqXyJ6770SkbcvM2fOjC9+8Ytx/PHHd3veTD21LxE77/3S0tISX/jCF6Jfv35x0kknxY033hgnnHBCt+etRhX559XLUFNT0+F1URSdzn3e9Z88vzVjbuu82XpiX6ZMmdL+3wcddFBMmDAhvvSlL8XChQtjxowZ2/5NlKwSe1KJebP1xL709nslorL7ct1118XixYtj6dKlUV9fv13zZuuJfdlZ75eGhoZ45pln4t13341HH300ZsyYEfvss09MmjSp2/NWm14XH3vuuWfU1tZ2KryNGzd2KsEthg4d2uX1ffr0iUGDBn3mNVvG7M68mXpqX7rSv3//OOigg+KFF17ozrdSmkrtSSXmzdRT+9KV3nKvRFR+X66//vqYO3du/OUvf4mDDz54u+bN1FP70pWd5X7ZZZddYt99942IiEMPPTTWrVsXTU1NMWnSpF5/v5Sl1/3YpV+/fjFu3LhYsmRJh/NLliyJiRMndvlnJkyY0On6Rx55JMaPHx99+/b9zGu2jNmdeTP11L50pa2tLdatWxfDhg3rzrdSmkrtSSXmzdRT+9KV3nKvRFR2X375y1/GVVddFQ899FCMHz9+u+fN1FP70pWd5X75pKIooq2trdvzVqXMd7durS0fM7r99tuLtWvXFtOnTy/69+9fvPLKK0VRFMXMmTOLs846q/36LR9vuuiii4q1a9cWt99+e6ePNz3xxBNFbW1tcc011xTr1q0rrrnmmk/9qO2nzdvTempffvaznxVLly4t1q9fX6xYsaI4+eSTi4aGhl6xL5XYk7a2tmLNmjXFmjVrimHDhhUXX3xxsWbNmuKFF17Y6nl7Wk/tS2++V4qiMvty7bXXFv369SvuvffeDh8Z3bRp01bP29N6al92xvtl7ty5xSOPPFK89NJLxbp164pf/epXRZ8+fYoFCxZs9bw7gl4ZH0VRFDfffHMxcuTIol+/fsVXv/rVYtmyZe1fO/vss4tjjz22w/VLly4tDjvssKJfv37FqFGjivnz53ca83e/+13xla98pejbt28xZsyY4r777tumeXuDntiX0047rRg2bFjRt2/fYvjw4cWpp55aPPvssxX5/rqj7D15+eWXi4jodHxynJ3tXtmafent90pRlL8vI0eO7HJfZs+evdXz9gY9sS874/1y2WWXFfvuu29RX19fDBw4sJgwYUJx9913b9O8O4Kaovj/74YBAEjQ697zAQDs2MQHAJBKfAAAqcQHAJBKfAAAqcQHAJBKfAAAqcQHAJBKfAAAqcQHAJBKfAAAqcQHAJDq/wEreU12C1FDFgAAAABJRU5ErkJggg==",
      "text/plain": [
       "<Figure size 640x480 with 1 Axes>"
      ]
     },
     "metadata": {},
     "output_type": "display_data"
    }
   ],
   "source": [
    "plt.hist([subset_lisa['percent'], subset_mary['percent']])\n",
    "plt.savefig(\"lisa&mary.png\")\n",
    "subset_mary.to_csv(\"subset_mary.csv\")"
   ]
  },
  {
   "cell_type": "markdown",
   "metadata": {},
   "source": [
    "## Challenge Assignment"
   ]
  },
  {
   "cell_type": "markdown",
   "metadata": {},
   "source": [
    "Some names remained popular throughout a decade and some names were only popular for a year or two. 183 of the most popular names in the 1980s were only popular for a year. What were the first five most popular one hit wonders of the 1980s?\n",
    "\n",
    "We did not go over all the commands that you need to answer this question. Never fear! The internet can be your trusty guide. Head over to https://stackoverflow.com/ and use the pandas documentation to answer this question. Bonus pandas points if you can answer the question in one line of code!"
   ]
  },
  {
   "cell_type": "code",
   "execution_count": 36,
   "metadata": {},
   "outputs": [
    {
     "data": {
      "text/plain": [
       "name\n",
       "Michael    20\n",
       "Devin      20\n",
       "Cameron    20\n",
       "Kelly      20\n",
       "Aubrey     20\n",
       "Name: count, dtype: int64"
      ]
     },
     "execution_count": 36,
     "metadata": {},
     "output_type": "execute_result"
    }
   ],
   "source": [
    "names_df.loc[(names_df[\"year\"]>=1980) & (names_df[\"year\"]<1990)]['name'].value_counts().head()"
   ]
  },
  {
   "cell_type": "markdown",
   "metadata": {},
   "source": [
    "What is the distribution of the count of one hit wonder names over time during the 1980s? Please save your histogram as a .png file."
   ]
  },
  {
   "cell_type": "code",
   "execution_count": 39,
   "metadata": {},
   "outputs": [
    {
     "data": {
      "text/plain": [
       "name\n",
       "Michael    20\n",
       "Devin      20\n",
       "Cameron    20\n",
       "Kelly      20\n",
       "Aubrey     20\n",
       "           ..\n",
       "Charla      1\n",
       "Rashida     1\n",
       "Tracee      1\n",
       "Windy       1\n",
       "Ryann       1\n",
       "Name: count, Length: 2441, dtype: int64"
      ]
     },
     "execution_count": 39,
     "metadata": {},
     "output_type": "execute_result"
    }
   ],
   "source": [
    "names_df.loc[(names_df[\"year\"]>=1980) & (names_df[\"year\"]<1990)]['name'].value_counts()"
   ]
  },
  {
   "cell_type": "code",
   "execution_count": 43,
   "metadata": {},
   "outputs": [
    {
     "data": {
      "image/png": "iVBORw0KGgoAAAANSUhEUgAAAh8AAAGdCAYAAACyzRGfAAAAOXRFWHRTb2Z0d2FyZQBNYXRwbG90bGliIHZlcnNpb24zLjguNCwgaHR0cHM6Ly9tYXRwbG90bGliLm9yZy8fJSN1AAAACXBIWXMAAA9hAAAPYQGoP6dpAAAcrklEQVR4nO3dcXDX9X348dcX0K/EJulASUhFTGfcuiHtiivK2pG1ksnQo5ee1xUvszu7s8PuyrEeE+md6TYTj9sxunFzresYbsd0a1fbOxwFT4u2SBss6RidqCvYiMR0ikkKXFLl/fujx/dnDK0Gknf4hsfj7vPH9/P55Pt9fd6Xg2c++SYppJRSAABkMmm8BwAAzi3iAwDISnwAAFmJDwAgK/EBAGQlPgCArMQHAJCV+AAAspoy3gO80YkTJ+KFF16IysrKKBQK4z0OAPAWpJSiv78/6urqYtKkX3xv46yLjxdeeCFmzZo13mMAAKehq6srLrnkkl94zlkXH5WVlRHxs+GrqqrGeRoA4K3o6+uLWbNmlf4f/0XOuvg4+a2Wqqoq8QEAZeatvGXCG04BgKzEBwCQlfgAALISHwBAVuIDAMhKfAAAWYkPACAr8QEAZCU+AICsxAcAkJX4AACyEh8AQFbiAwDISnwAAFlNGe8BAGAiu+z2LeM9wjAH714yrq/vzgcAkJX4AACyEh8AQFbiAwDISnwAAFmJDwAgK/EBAGQlPgCArMQHAJCV+AAAshIfAEBW4gMAyEp8AABZiQ8AICvxAQBkJT4AgKzEBwCQlfgAALISHwBAVuIDAMhKfAAAWYkPACAr8QEAZCU+AICsxAcAkJX4AACyEh8AQFbiAwDISnwAAFmJDwAgK/EBAGQlPgCArMQHAJDViOKjtbU1CoXCkK22trZ0PKUUra2tUVdXF1OnTo3GxsbYt2/fqA8NAJSvEd/5+PVf//U4fPhwadu7d2/p2Nq1a2PdunWxYcOG6OjoiNra2li0aFH09/eP6tAAQPkacXxMmTIlamtrS9vFF18cET+767F+/fpYs2ZNNDc3x5w5c2LTpk1x7Nix2Lx586gPDgCUpxHHxzPPPBN1dXVRX18fv//7vx8//OEPIyLiwIED0d3dHU1NTaVzi8ViLFy4MHbu3Plzn29gYCD6+vqGbADAxDWi+Jg/f37cd9998Y1vfCPuvffe6O7ujgULFsRLL70U3d3dERFRU1Mz5GNqampKx06lvb09qqurS9usWbNO4zIAgHIxovhYvHhxfOQjH4krr7wyrr322tiyZUtERGzatKl0TqFQGPIxKaVh+15v9erV0dvbW9q6urpGMhIAUGbO6EdtL7zwwrjyyivjmWeeKf3UyxvvcvT09Ay7G/J6xWIxqqqqhmwAwMR1RvExMDAQ//M//xMzZ86M+vr6qK2tje3bt5eODw4Oxo4dO2LBggVnPCgAMDFMGcnJn/nMZ+KGG26ISy+9NHp6euIv//Ivo6+vL26++eYoFAqxYsWKaGtri4aGhmhoaIi2traoqKiIZcuWjdX8AECZGVF8PP/88/Gxj30s/u///i8uvvjiuPrqq2PXrl0xe/bsiIhYtWpVHD9+PJYvXx5HjhyJ+fPnx7Zt26KysnJMhgcAyk8hpZTGe4jX6+vri+rq6ujt7fX+DwDK3mW3bxnvEYY5ePeSUX/Okfz/7W+7AABZiQ8AICvxAQBkJT4AgKzEBwCQlfgAALISHwBAVuIDAMhKfAAAWYkPACAr8QEAZCU+AICsxAcAkJX4AACyEh8AQFbiAwDISnwAAFmJDwAgK/EBAGQlPgCArMQHAJCV+AAAshIfAEBW4gMAyEp8AABZiQ8AICvxAQBkJT4AgKzEBwCQlfgAALISHwBAVuIDAMhKfAAAWYkPACAr8QEAZCU+AICsxAcAkJX4AACyEh8AQFbiAwDISnwAAFmJDwAgK/EBAGQlPgCArMQHAJCV+AAAshIfAEBW4gMAyEp8AABZiQ8AICvxAQBkJT4AgKzOKD7a29ujUCjEihUrSvtSStHa2hp1dXUxderUaGxsjH379p3pnADABHHa8dHR0RFf/OIXY+7cuUP2r127NtatWxcbNmyIjo6OqK2tjUWLFkV/f/8ZDwsAlL/Tio+f/OQncdNNN8W9994bv/RLv1Tan1KK9evXx5o1a6K5uTnmzJkTmzZtimPHjsXmzZtHbWgAoHydVnzcdtttsWTJkrj22muH7D9w4EB0d3dHU1NTaV+xWIyFCxfGzp07T/lcAwMD0dfXN2QDACauKSP9gPvvvz++973vRUdHx7Bj3d3dERFRU1MzZH9NTU0899xzp3y+9vb2+NznPjfSMQCAMjWiOx9dXV3x6U9/Ov7lX/4lLrjggp97XqFQGPI4pTRs30mrV6+O3t7e0tbV1TWSkQCAMjOiOx9PPvlk9PT0xLx580r7XnvttXjsscdiw4YNsX///oj42R2QmTNnls7p6ekZdjfkpGKxGMVi8XRmBwDK0IjufHzoQx+KvXv3RmdnZ2m76qqr4qabborOzs545zvfGbW1tbF9+/bSxwwODsaOHTtiwYIFoz48AFB+RnTno7KyMubMmTNk34UXXhjTp08v7V+xYkW0tbVFQ0NDNDQ0RFtbW1RUVMSyZctGb2oAoGyN+A2nb2bVqlVx/PjxWL58eRw5ciTmz58f27Zti8rKytF+KQCgDBVSSmm8h3i9vr6+qK6ujt7e3qiqqhrvcQDgjFx2+5bxHmGYg3cvGfXnHMn/3/62CwCQlfgAALISHwBAVuIDAMhKfAAAWYkPACAr8QEAZCU+AICsxAcAkJX4AACyEh8AQFbiAwDISnwAAFmJDwAgK/EBAGQlPgCArMQHAJCV+AAAspoy3gPkdtntW8Z7hGEO3r1kvEcAgGzc+QAAshIfAEBW4gMAyEp8AABZiQ8AICvxAQBkJT4AgKzEBwCQlfgAALISHwBAVuIDAMhKfAAAWYkPACAr8QEAZCU+AICsxAcAkJX4AACyEh8AQFbiAwDISnwAAFmJDwAgK/EBAGQlPgCArMQHAJCV+AAAshIfAEBW4gMAyEp8AABZiQ8AICvxAQBkJT4AgKzEBwCQlfgAALIaUXzcc889MXfu3Kiqqoqqqqq45ppr4j//8z9Lx1NK0draGnV1dTF16tRobGyMffv2jfrQAED5GlF8XHLJJXH33XfH7t27Y/fu3fHBD34wli5dWgqMtWvXxrp162LDhg3R0dERtbW1sWjRoujv7x+T4QGA8jOi+Ljhhhvi937v9+KKK66IK664Iu66665429veFrt27YqUUqxfvz7WrFkTzc3NMWfOnNi0aVMcO3YsNm/ePFbzAwBl5rTf8/Haa6/F/fffH0ePHo1rrrkmDhw4EN3d3dHU1FQ6p1gsxsKFC2Pnzp0/93kGBgair69vyAYATFwjjo+9e/fG2972tigWi/HJT34yvvrVr8av/dqvRXd3d0RE1NTUDDm/pqamdOxU2tvbo7q6urTNmjVrpCMBAGVkxPHxK7/yK9HZ2Rm7du2KP/7jP46bb745fvCDH5SOFwqFIeenlIbte73Vq1dHb29vaevq6hrpSABAGZky0g84//zz4/LLL4+IiKuuuio6Ojri85//fPzZn/1ZRER0d3fHzJkzS+f39PQMuxvyesViMYrF4kjHAADK1Bn/no+UUgwMDER9fX3U1tbG9u3bS8cGBwdjx44dsWDBgjN9GQBgghjRnY877rgjFi9eHLNmzYr+/v64//7745vf/GZs3bo1CoVCrFixItra2qKhoSEaGhqira0tKioqYtmyZWM1PwBQZkYUHy+++GK0tLTE4cOHo7q6OubOnRtbt26NRYsWRUTEqlWr4vjx47F8+fI4cuRIzJ8/P7Zt2xaVlZVjMjwAUH5GFB9f+tKXfuHxQqEQra2t0draeiYzAQATmL/tAgBkJT4AgKzEBwCQlfgAALISHwBAVuIDAMhKfAAAWYkPACAr8QEAZCU+AICsxAcAkJX4AACyEh8AQFbiAwDISnwAAFmJDwAgK/EBAGQlPgCArMQHAJCV+AAAshIfAEBW4gMAyEp8AABZiQ8AICvxAQBkJT4AgKzEBwCQlfgAALISHwBAVuIDAMhKfAAAWYkPACAr8QEAZCU+AICsxAcAkJX4AACyEh8AQFbiAwDISnwAAFmJDwAgK/EBAGQlPgCArMQHAJCV+AAAshIfAEBW4gMAyEp8AABZiQ8AICvxAQBkJT4AgKzEBwCQ1Yjio729PX7zN38zKisrY8aMGfHhD3849u/fP+SclFK0trZGXV1dTJ06NRobG2Pfvn2jOjQAUL5GFB87duyI2267LXbt2hXbt2+PV199NZqamuLo0aOlc9auXRvr1q2LDRs2REdHR9TW1saiRYuiv79/1IcHAMrPlJGcvHXr1iGPN27cGDNmzIgnn3wyfvu3fztSSrF+/fpYs2ZNNDc3R0TEpk2boqamJjZv3hy33nrr6E0OAJSlM3rPR29vb0RETJs2LSIiDhw4EN3d3dHU1FQ6p1gsxsKFC2Pnzp1n8lIAwAQxojsfr5dSipUrV8b73//+mDNnTkREdHd3R0RETU3NkHNramriueeeO+XzDAwMxMDAQOlxX1/f6Y4EAJSB046PT33qU/Ff//Vf8a1vfWvYsUKhMORxSmnYvpPa29vjc5/73OmOcc647PYt4z3CMAfvXjLeIwDnEP8OThyn9W2XP/mTP4mvf/3r8eijj8Yll1xS2l9bWxsR//8OyEk9PT3D7oactHr16ujt7S1tXV1dpzMSAFAmRhQfKaX41Kc+Ff/xH/8RjzzySNTX1w85Xl9fH7W1tbF9+/bSvsHBwdixY0csWLDglM9ZLBajqqpqyAYATFwj+rbLbbfdFps3b46vfe1rUVlZWbrDUV1dHVOnTo1CoRArVqyItra2aGhoiIaGhmhra4uKiopYtmzZmFwAAFBeRhQf99xzT0RENDY2Dtm/cePG+PjHPx4REatWrYrjx4/H8uXL48iRIzF//vzYtm1bVFZWjsrAAEB5G1F8pJTe9JxCoRCtra3R2tp6ujMBABOYv+0CAGQlPgCArMQHAJCV+AAAshIfAEBW4gMAyEp8AABZiQ8AICvxAQBkJT4AgKzEBwCQlfgAALISHwBAVuIDAMhKfAAAWYkPACAr8QEAZCU+AICsxAcAkJX4AACyEh8AQFbiAwDISnwAAFmJDwAgK/EBAGQ1ZbwHAChXl92+ZbxHGObg3UvGewR4U+58AABZiQ8AICvxAQBkJT4AgKzEBwCQlfgAALISHwBAVuIDAMhKfAAAWYkPACAr8QEAZCU+AICsxAcAkJX4AACyEh8AQFbiAwDISnwAAFmJDwAgK/EBAGQlPgCArMQHAJCV+AAAshIfAEBW4gMAyGrKeA/AxHbZ7VvGe4RhDt69ZLxHADinufMBAGQ14vh47LHH4oYbboi6urooFArx4IMPDjmeUorW1taoq6uLqVOnRmNjY+zbt2+05gUAytyI4+Po0aPx7ne/OzZs2HDK42vXro1169bFhg0boqOjI2pra2PRokXR399/xsMCAOVvxO/5WLx4cSxevPiUx1JKsX79+lizZk00NzdHRMSmTZuipqYmNm/eHLfeeuuZTQsAlL1Rfc/HgQMHoru7O5qamkr7isViLFy4MHbu3HnKjxkYGIi+vr4hGwAwcY1qfHR3d0dERE1NzZD9NTU1pWNv1N7eHtXV1aVt1qxZozkSAHCWGZOfdikUCkMep5SG7Ttp9erV0dvbW9q6urrGYiQA4Cwxqr/no7a2NiJ+dgdk5syZpf09PT3D7oacVCwWo1gsjuYYAMBZbFTvfNTX10dtbW1s3769tG9wcDB27NgRCxYsGM2XAgDK1IjvfPzkJz+JZ599tvT4wIED0dnZGdOmTYtLL700VqxYEW1tbdHQ0BANDQ3R1tYWFRUVsWzZslEdHAAoTyOOj927d8fv/M7vlB6vXLkyIiJuvvnm+Kd/+qdYtWpVHD9+PJYvXx5HjhyJ+fPnx7Zt26KysnL0pgYAytaI46OxsTFSSj/3eKFQiNbW1mhtbT2TuQCACcrfdgEAshIfAEBW4gMAyEp8AABZiQ8AICvxAQBkNaq/Xh0YX5fdvmW8Rxjm4N1LxnsE3sDnCePNnQ8AICvxAQBkJT4AgKzEBwCQlfgAALISHwBAVuIDAMhKfAAAWYkPACAr8QEAZCU+AICsxAcAkJX4AACyEh8AQFbiAwDISnwAAFmJDwAgK/EBAGQ1ZbwHgLPRZbdvGe8Rhjl495LxHgFgVLjzAQBkJT4AgKzEBwCQlfgAALISHwBAVn7aBRh3froIzi3ufAAAWYkPACAr8QEAZCU+AICsxAcAkJX4AACyEh8AQFbiAwDISnwAAFmJDwAgK/EBAGQlPgCArMQHAJCV+AAAshIfAEBW4gMAyEp8AABZiQ8AICvxAQBkJT4AgKzGLD7+7u/+Lurr6+OCCy6IefPmxeOPPz5WLwUAlJExiY8HHnggVqxYEWvWrIk9e/bEBz7wgVi8eHH86Ec/GouXAwDKyJjEx7p16+KWW26JT3ziE/Gud70r1q9fH7NmzYp77rlnLF4OACgjU0b7CQcHB+PJJ5+M22+/fcj+pqam2Llz57DzBwYGYmBgoPS4t7c3IiL6+vpGe7SIiDgxcGxMnvdMvJVrNffoMXde5s7L3HlN5LlP9zlTSm9+chplhw4dShGRvv3tbw/Zf9ddd6Urrrhi2Pl33nlnigibzWaz2WwTYOvq6nrTVhj1Ox8nFQqFIY9TSsP2RUSsXr06Vq5cWXp84sSJePnll2P69OmnPP9s0NfXF7NmzYqurq6oqqoa73EmPOudl/XOy3rnZ83HRkop+vv7o66u7k3PHfX4uOiii2Ly5MnR3d09ZH9PT0/U1NQMO79YLEaxWByy7+1vf/tojzUmqqqqfOJmZL3zst55We/8rPnoq66ufkvnjfobTs8///yYN29ebN++fcj+7du3x4IFC0b75QCAMjMm33ZZuXJltLS0xFVXXRXXXHNNfPGLX4wf/ehH8clPfnIsXg4AKCNjEh8f/ehH46WXXoo///M/j8OHD8ecOXPioYceitmzZ4/Fy2VXLBbjzjvvHPbtIsaG9c7LeudlvfOz5uOvkNJb+ZkYAIDR4W+7AABZiQ8AICvxAQBkJT4AgKzO2fh47LHH4oYbboi6urooFArx4IMPDjn+4osvxsc//vGoq6uLioqKuO666+KZZ54Zck53d3e0tLREbW1tXHjhhfHe9743vvzlLw8558iRI9HS0hLV1dVRXV0dLS0t8corr4zx1Z19cqz3wYMH45Zbbon6+vqYOnVq/PIv/3LceeedMTg4mOMSzyq5Pr9PGhgYiPe85z1RKBSis7NzjK7q7JVzvbds2RLz58+PqVOnxkUXXRTNzc1jeWlnpVzr/fTTT8fSpUvjoosuiqqqqvit3/qtePTRR8f68s4J52x8HD16NN797nfHhg0bhh1LKcWHP/zh+OEPfxhf+9rXYs+ePTF79uy49tpr4+jRo6XzWlpaYv/+/fH1r3899u7dG83NzfHRj3409uzZUzpn2bJl0dnZGVu3bo2tW7dGZ2dntLS0ZLnGs0mO9X7qqafixIkT8YUvfCH27dsXf/3Xfx1///d/H3fccUe26zxb5Pr8PmnVqlVv6VcqT1S51vsrX/lKtLS0xB/+4R/G97///fj2t78dy5Yty3KNZ5Nc671kyZJ49dVX45FHHoknn3wy3vOe98T1118/7Dd4cxrO9A/JTQQRkb761a+WHu/fvz9FRPrv//7v0r5XX301TZs2Ld17772lfRdeeGG67777hjzXtGnT0j/8wz+klFL6wQ9+kCIi7dq1q3T8iSeeSBGRnnrqqTG6mrPfWK33qaxduzbV19eP3vBlaKzX+6GHHkq/+qu/mvbt25ciIu3Zs2dMrqNcjNV6//SnP03veMc7fuHn+7lorNb7xz/+cYqI9Nhjj5WO9/X1pYhIDz/88BhdzbnjnL3z8YsMDAxERMQFF1xQ2jd58uQ4//zz41vf+lZp3/vf//544IEH4uWXX44TJ07E/fffHwMDA9HY2BgREU888URUV1fH/PnzSx9z9dVXR3V1dezcuTPPxZSB0VrvU+nt7Y1p06aN2ezlaDTX+8UXX4w/+qM/in/+53+OioqKbNdQTkZrvb/3ve/FoUOHYtKkSfEbv/EbMXPmzFi8eHHs27cv6/Wc7UZrvadPnx7vete74r777oujR4/Gq6++Gl/4wheipqYm5s2bl/WaJqTxrp+zQbyhnAcHB9Ps2bPTjTfemF5++eU0MDCQ2tvbU0Skpqam0nmvvPJK+t3f/d0UEWnKlCmpqqoqbdu2rXT8rrvuSg0NDcNer6GhIbW1tY3pNZ3Nxmq93+jZZ59NVVVVQ77aOReN1XqfOHEiXXfddekv/uIvUkopHThwwJ2PNHbr/a//+q8pItKll16avvzlL6fdu3enj33sY2n69OnppZdeynmJZ5Wx/Pfk+eefT/PmzUuFQiFNnjw51dXVnfOf36PFnY9TOO+88+IrX/lKPP300zFt2rSoqKiIb37zm7F48eKYPHly6bzPfvazceTIkXj44Ydj9+7dsXLlyrjxxhtj7969pXMKhcKw508pnXL/uWo01/ukF154Ia677rq48cYb4xOf+ETOyznrjdZ6/+3f/m309fXF6tWrx+tSysJorfeJEyciImLNmjXxkY98JObNmxcbN26MQqEQ//7v/z4u13Y2Gq31TinF8uXLY8aMGfH444/Hd7/73Vi6dGlcf/31cfjw4fG6vIljvOvnbBBvKOfXe+WVV1JPT09KKaX3ve99afny5Smln31VHW/4vmJKKX3oQx9Kt956a0oppS996Uupurp62HNWV1enf/zHfxy9CygzY7XeJx06dChdccUVqaWlJb322mujfwFlZqzWe+nSpWnSpElp8uTJpS0i0uTJk9Mf/MEfjN0FneXGar0feeSRFBHp8ccfH3LO+973vnTHHXeM8lWUj7Fa74cffjhNmjQp9fb2Djnn8ssvT+3t7aN8Fecedz7eRHV1dVx88cXxzDPPxO7du2Pp0qUREXHs2LGIiJg0aegSTp48ufQVyjXXXBO9vb3x3e9+t3T8O9/5TvT29saCBQsyXUF5OZP1jog4dOhQNDY2xnvf+97YuHHjsPMZ6kzW+2/+5m/i+9//fnR2dkZnZ2c89NBDERHxwAMPxF133ZXxKsrHmaz3vHnzolgsxv79+0vHf/rTn8bBgwcnzB/tHG1nst4/75xJkyYN+TeH0zTe9TNe+vv70549e9KePXtSRKR169alPXv2pOeeey6llNK//du/pUcffTT97//+b3rwwQfT7NmzU3Nzc+njBwcH0+WXX54+8IEPpO985zvp2WefTX/1V3+VCoVC2rJlS+m86667Ls2dOzc98cQT6YknnkhXXnlluv7667Nf73jLsd6HDh1Kl19+efrgBz+Ynn/++XT48OHSdq7J9fn9eufyez5yrfenP/3p9I53vCN94xvfSE899VS65ZZb0owZM9LLL7+c/ZrHU471/vGPf5ymT5+empubU2dnZ9q/f3/6zGc+k84777zU2dk5Ltc9kZyz8fHoo4+miBi23XzzzSmllD7/+c+nSy65JJ133nnp0ksvTZ/97GfTwMDAkOd4+umnU3Nzc5oxY0aqqKhIc+fOHfajWy+99FK66aabUmVlZaqsrEw33XRTOnLkSKarPHvkWO+NGzee8jXOxcbO9fn9eudyfORa78HBwfSnf/qnacaMGamysjJde+21w751cC7Itd4dHR2pqakpTZs2LVVWVqarr746PfTQQ7kuc0IrpJTSWN5ZAQB4Pd8QBwCyEh8AQFbiAwDISnwAAFmJDwAgK/EBAGQlPgCArMQHAJCV+AAAshIfAEBW4gMAyEp8AABZ/T9UmAeJrMA6owAAAABJRU5ErkJggg==",
      "text/plain": [
       "<Figure size 640x480 with 1 Axes>"
      ]
     },
     "metadata": {},
     "output_type": "display_data"
    }
   ],
   "source": [
    "names_1980s = names_df[(names_df['year'] >= 1980) & (names_df['year'] < 1990)]\n",
    "\n",
    "# Her ismin sadece bir kez göründüğü yılları bulma\n",
    "name_counts = names_1980s['name'].value_counts()\n",
    "one_hit_wonders = name_counts[name_counts == 1].index\n",
    "\n",
    "one_hit_wonders_df = names_1980s[names_1980s['name'].isin(one_hit_wonders)]\n",
    "yearly_distribution = one_hit_wonders_df['year'].value_counts().sort_index()\n",
    "plt.bar(yearly_distribution.index, yearly_distribution.values)\n",
    "plt.savefig('one_hit_wonder_names_histogram.png') "
   ]
  },
  {
   "cell_type": "markdown",
   "metadata": {},
   "source": [
    "Now merge this 1980s dataframe with the overall dataset. Can you figure out a way to only keep the names that are popular in and beyond the 1980s in this merge? Write a l"
   ]
  },
  {
   "cell_type": "code",
   "execution_count": 44,
   "metadata": {},
   "outputs": [
    {
     "data": {
      "text/html": [
       "<div>\n",
       "<style scoped>\n",
       "    .dataframe tbody tr th:only-of-type {\n",
       "        vertical-align: middle;\n",
       "    }\n",
       "\n",
       "    .dataframe tbody tr th {\n",
       "        vertical-align: top;\n",
       "    }\n",
       "\n",
       "    .dataframe thead th {\n",
       "        text-align: right;\n",
       "    }\n",
       "</style>\n",
       "<table border=\"1\" class=\"dataframe\">\n",
       "  <thead>\n",
       "    <tr style=\"text-align: right;\">\n",
       "      <th></th>\n",
       "      <th>year</th>\n",
       "      <th>name</th>\n",
       "      <th>percent</th>\n",
       "      <th>gender</th>\n",
       "    </tr>\n",
       "  </thead>\n",
       "  <tbody>\n",
       "    <tr>\n",
       "      <th>0</th>\n",
       "      <td>1980</td>\n",
       "      <td>Michael</td>\n",
       "      <td>0.037039</td>\n",
       "      <td>boy</td>\n",
       "    </tr>\n",
       "    <tr>\n",
       "      <th>1</th>\n",
       "      <td>1980</td>\n",
       "      <td>Christopher</td>\n",
       "      <td>0.026531</td>\n",
       "      <td>boy</td>\n",
       "    </tr>\n",
       "    <tr>\n",
       "      <th>2</th>\n",
       "      <td>1980</td>\n",
       "      <td>Jason</td>\n",
       "      <td>0.025994</td>\n",
       "      <td>boy</td>\n",
       "    </tr>\n",
       "    <tr>\n",
       "      <th>3</th>\n",
       "      <td>1980</td>\n",
       "      <td>David</td>\n",
       "      <td>0.022600</td>\n",
       "      <td>boy</td>\n",
       "    </tr>\n",
       "    <tr>\n",
       "      <th>4</th>\n",
       "      <td>1980</td>\n",
       "      <td>James</td>\n",
       "      <td>0.021205</td>\n",
       "      <td>boy</td>\n",
       "    </tr>\n",
       "  </tbody>\n",
       "</table>\n",
       "</div>"
      ],
      "text/plain": [
       "   year         name   percent gender\n",
       "0  1980      Michael  0.037039    boy\n",
       "1  1980  Christopher  0.026531    boy\n",
       "2  1980        Jason  0.025994    boy\n",
       "3  1980        David  0.022600    boy\n",
       "4  1980        James  0.021205    boy"
      ]
     },
     "execution_count": 44,
     "metadata": {},
     "output_type": "execute_result"
    }
   ],
   "source": [
    "names_1980s = names_df[(names_df['year'] >= 1980) & (names_df['year'] < 1990)]\n",
    "names_beyond_1980s = names_df[names_df['year'] >= 1980]['name'].unique()\n",
    "popular_names_in_and_beyond_1980s = names_df[names_df['name'].isin(names_beyond_1980s)]\n",
    "merged_df = names_1980s.merge(popular_names_in_and_beyond_1980s, on=['year', 'name', 'percent', 'gender'])\n",
    "final_df = merged_df.drop_duplicates()\n",
    "final_df.head()"
   ]
  },
  {
   "cell_type": "code",
   "execution_count": null,
   "metadata": {},
   "outputs": [],
   "source": []
  }
 ],
 "metadata": {
  "kernelspec": {
   "display_name": "Python 3 (ipykernel)",
   "language": "python",
   "name": "python3"
  },
  "language_info": {
   "codemirror_mode": {
    "name": "ipython",
    "version": 3
   },
   "file_extension": ".py",
   "mimetype": "text/x-python",
   "name": "python",
   "nbconvert_exporter": "python",
   "pygments_lexer": "ipython3",
   "version": "3.12.4"
  }
 },
 "nbformat": 4,
 "nbformat_minor": 4
}
